{
 "cells": [
  {
   "cell_type": "code",
   "execution_count": 58,
   "metadata": {},
   "outputs": [
    {
     "data": {
      "text/html": [
       "<div>\n",
       "<style scoped>\n",
       "    .dataframe tbody tr th:only-of-type {\n",
       "        vertical-align: middle;\n",
       "    }\n",
       "\n",
       "    .dataframe tbody tr th {\n",
       "        vertical-align: top;\n",
       "    }\n",
       "\n",
       "    .dataframe thead th {\n",
       "        text-align: right;\n",
       "    }\n",
       "</style>\n",
       "<table border=\"1\" class=\"dataframe\">\n",
       "  <thead>\n",
       "    <tr style=\"text-align: right;\">\n",
       "      <th></th>\n",
       "      <th>Release Year</th>\n",
       "      <th>Title</th>\n",
       "      <th>Origin/Ethnicity</th>\n",
       "      <th>Director</th>\n",
       "      <th>Cast</th>\n",
       "      <th>Genre</th>\n",
       "      <th>Wiki Page</th>\n",
       "      <th>Plot</th>\n",
       "    </tr>\n",
       "  </thead>\n",
       "  <tbody>\n",
       "    <tr>\n",
       "      <th>0</th>\n",
       "      <td>1901</td>\n",
       "      <td>Kansas Saloon Smashers</td>\n",
       "      <td>American</td>\n",
       "      <td>Unknown</td>\n",
       "      <td>NaN</td>\n",
       "      <td>unknown</td>\n",
       "      <td>https://en.wikipedia.org/wiki/Kansas_Saloon_Sm...</td>\n",
       "      <td>A bartender is working at a saloon, serving dr...</td>\n",
       "    </tr>\n",
       "    <tr>\n",
       "      <th>1</th>\n",
       "      <td>1901</td>\n",
       "      <td>Love by the Light of the Moon</td>\n",
       "      <td>American</td>\n",
       "      <td>Unknown</td>\n",
       "      <td>NaN</td>\n",
       "      <td>unknown</td>\n",
       "      <td>https://en.wikipedia.org/wiki/Love_by_the_Ligh...</td>\n",
       "      <td>The moon, painted with a smiling face hangs ov...</td>\n",
       "    </tr>\n",
       "    <tr>\n",
       "      <th>2</th>\n",
       "      <td>1901</td>\n",
       "      <td>The Martyred Presidents</td>\n",
       "      <td>American</td>\n",
       "      <td>Unknown</td>\n",
       "      <td>NaN</td>\n",
       "      <td>unknown</td>\n",
       "      <td>https://en.wikipedia.org/wiki/The_Martyred_Pre...</td>\n",
       "      <td>The film, just over a minute long, is composed...</td>\n",
       "    </tr>\n",
       "    <tr>\n",
       "      <th>3</th>\n",
       "      <td>1901</td>\n",
       "      <td>Terrible Teddy, the Grizzly King</td>\n",
       "      <td>American</td>\n",
       "      <td>Unknown</td>\n",
       "      <td>NaN</td>\n",
       "      <td>unknown</td>\n",
       "      <td>https://en.wikipedia.org/wiki/Terrible_Teddy,_...</td>\n",
       "      <td>Lasting just 61 seconds and consisting of two ...</td>\n",
       "    </tr>\n",
       "    <tr>\n",
       "      <th>4</th>\n",
       "      <td>1902</td>\n",
       "      <td>Jack and the Beanstalk</td>\n",
       "      <td>American</td>\n",
       "      <td>George S. Fleming, Edwin S. Porter</td>\n",
       "      <td>NaN</td>\n",
       "      <td>unknown</td>\n",
       "      <td>https://en.wikipedia.org/wiki/Jack_and_the_Bea...</td>\n",
       "      <td>The earliest known adaptation of the classic f...</td>\n",
       "    </tr>\n",
       "  </tbody>\n",
       "</table>\n",
       "</div>"
      ],
      "text/plain": [
       "   Release Year                             Title Origin/Ethnicity  \\\n",
       "0          1901            Kansas Saloon Smashers         American   \n",
       "1          1901     Love by the Light of the Moon         American   \n",
       "2          1901           The Martyred Presidents         American   \n",
       "3          1901  Terrible Teddy, the Grizzly King         American   \n",
       "4          1902            Jack and the Beanstalk         American   \n",
       "\n",
       "                             Director Cast    Genre  \\\n",
       "0                             Unknown  NaN  unknown   \n",
       "1                             Unknown  NaN  unknown   \n",
       "2                             Unknown  NaN  unknown   \n",
       "3                             Unknown  NaN  unknown   \n",
       "4  George S. Fleming, Edwin S. Porter  NaN  unknown   \n",
       "\n",
       "                                           Wiki Page  \\\n",
       "0  https://en.wikipedia.org/wiki/Kansas_Saloon_Sm...   \n",
       "1  https://en.wikipedia.org/wiki/Love_by_the_Ligh...   \n",
       "2  https://en.wikipedia.org/wiki/The_Martyred_Pre...   \n",
       "3  https://en.wikipedia.org/wiki/Terrible_Teddy,_...   \n",
       "4  https://en.wikipedia.org/wiki/Jack_and_the_Bea...   \n",
       "\n",
       "                                                Plot  \n",
       "0  A bartender is working at a saloon, serving dr...  \n",
       "1  The moon, painted with a smiling face hangs ov...  \n",
       "2  The film, just over a minute long, is composed...  \n",
       "3  Lasting just 61 seconds and consisting of two ...  \n",
       "4  The earliest known adaptation of the classic f...  "
      ]
     },
     "execution_count": 58,
     "metadata": {},
     "output_type": "execute_result"
    }
   ],
   "source": [
    "import numpy as np\n",
    "import pandas as pd\n",
    "from keras.models import Sequential\n",
    "from keras import layers\n",
    "from keras import optimizers\n",
    "from keras import regularizers\n",
    "import nltk\n",
    "import re\n",
    "from sklearn.preprocessing import LabelEncoder\n",
    "from sklearn.model_selection import train_test_split\n",
    "from sklearn.feature_extraction.text import CountVectorizer\n",
    "\n",
    "films = pd.read_csv('C:\\\\Users\\\\48516\\\\Desktop\\\\Studia\\\\AIKE\\\\FilmsGenres\\\\wiki_movie_plots_deduped.csv')\n",
    "films.head()"
   ]
  },
  {
   "cell_type": "code",
   "execution_count": 6,
   "metadata": {},
   "outputs": [
    {
     "name": "stdout",
     "output_type": "stream",
     "text": [
      "<class 'pandas.core.frame.DataFrame'>\n",
      "RangeIndex: 34886 entries, 0 to 34885\n",
      "Data columns (total 8 columns):\n",
      " #   Column            Non-Null Count  Dtype \n",
      "---  ------            --------------  ----- \n",
      " 0   Release Year      34886 non-null  int64 \n",
      " 1   Title             34886 non-null  object\n",
      " 2   Origin/Ethnicity  34886 non-null  object\n",
      " 3   Director          34886 non-null  object\n",
      " 4   Cast              33464 non-null  object\n",
      " 5   Genre             34886 non-null  object\n",
      " 6   Wiki Page         34886 non-null  object\n",
      " 7   Plot              34886 non-null  object\n",
      "dtypes: int64(1), object(7)\n",
      "memory usage: 2.1+ MB\n"
     ]
    }
   ],
   "source": [
    "films.info()"
   ]
  },
  {
   "cell_type": "code",
   "execution_count": 59,
   "metadata": {},
   "outputs": [
    {
     "data": {
      "text/html": [
       "<div>\n",
       "<style scoped>\n",
       "    .dataframe tbody tr th:only-of-type {\n",
       "        vertical-align: middle;\n",
       "    }\n",
       "\n",
       "    .dataframe tbody tr th {\n",
       "        vertical-align: top;\n",
       "    }\n",
       "\n",
       "    .dataframe thead th {\n",
       "        text-align: right;\n",
       "    }\n",
       "</style>\n",
       "<table border=\"1\" class=\"dataframe\">\n",
       "  <thead>\n",
       "    <tr style=\"text-align: right;\">\n",
       "      <th></th>\n",
       "      <th>Plot</th>\n",
       "      <th>Genre</th>\n",
       "    </tr>\n",
       "  </thead>\n",
       "  <tbody>\n",
       "    <tr>\n",
       "      <th>0</th>\n",
       "      <td>The film opens with two bandits breaking into ...</td>\n",
       "      <td>western</td>\n",
       "    </tr>\n",
       "    <tr>\n",
       "      <th>1</th>\n",
       "      <td>The film is about a family who move to the sub...</td>\n",
       "      <td>comedy</td>\n",
       "    </tr>\n",
       "    <tr>\n",
       "      <th>2</th>\n",
       "      <td>The Rarebit Fiend gorges on Welsh rarebit at a...</td>\n",
       "      <td>short</td>\n",
       "    </tr>\n",
       "    <tr>\n",
       "      <th>3</th>\n",
       "      <td>The film features a train traveling through th...</td>\n",
       "      <td>short action/crime western</td>\n",
       "    </tr>\n",
       "    <tr>\n",
       "      <th>4</th>\n",
       "      <td>Irish villager Kathleen is a tenant of Captain...</td>\n",
       "      <td>short film</td>\n",
       "    </tr>\n",
       "  </tbody>\n",
       "</table>\n",
       "</div>"
      ],
      "text/plain": [
       "                                                Plot  \\\n",
       "0  The film opens with two bandits breaking into ...   \n",
       "1  The film is about a family who move to the sub...   \n",
       "2  The Rarebit Fiend gorges on Welsh rarebit at a...   \n",
       "3  The film features a train traveling through th...   \n",
       "4  Irish villager Kathleen is a tenant of Captain...   \n",
       "\n",
       "                        Genre  \n",
       "0                     western  \n",
       "1                      comedy  \n",
       "2                       short  \n",
       "3  short action/crime western  \n",
       "4                  short film  "
      ]
     },
     "execution_count": 59,
     "metadata": {},
     "output_type": "execute_result"
    }
   ],
   "source": [
    "films = films[['Plot', 'Genre']]\n",
    "films.drop(films[films['Genre'] == 'unknown'].index, inplace = True)\n",
    "films.reset_index(drop = True, inplace = True)\n",
    "films.head()"
   ]
  },
  {
   "cell_type": "code",
   "execution_count": 8,
   "metadata": {},
   "outputs": [
    {
     "name": "stdout",
     "output_type": "stream",
     "text": [
      "<class 'pandas.core.frame.DataFrame'>\n",
      "RangeIndex: 28803 entries, 0 to 28802\n",
      "Data columns (total 2 columns):\n",
      " #   Column  Non-Null Count  Dtype \n",
      "---  ------  --------------  ----- \n",
      " 0   Plot    28803 non-null  object\n",
      " 1   Genre   28803 non-null  object\n",
      "dtypes: object(2)\n",
      "memory usage: 450.2+ KB\n"
     ]
    }
   ],
   "source": [
    "films.info()"
   ]
  },
  {
   "cell_type": "code",
   "execution_count": 9,
   "metadata": {},
   "outputs": [
    {
     "data": {
      "text/plain": [
       "count     28803\n",
       "unique     2264\n",
       "top       drama\n",
       "freq       5964\n",
       "Name: Genre, dtype: object"
      ]
     },
     "execution_count": 9,
     "metadata": {},
     "output_type": "execute_result"
    }
   ],
   "source": [
    "films['Genre'].describe()"
   ]
  },
  {
   "cell_type": "code",
   "execution_count": 60,
   "metadata": {},
   "outputs": [
    {
     "name": "stdout",
     "output_type": "stream",
     "text": [
      "drama        5964\n",
      "comedy       4379\n",
      "horror       1167\n",
      "action       1098\n",
      "thriller      966\n",
      "romance       923\n",
      "western       865\n",
      "crime         568\n",
      "adventure     526\n",
      "musical       467\n",
      "Name: Genre, dtype: int64\n"
     ]
    }
   ],
   "source": [
    "mostFrequentGenres = films['Genre'].value_counts()[:10]\n",
    "genresList = mostFrequentGenres.index.tolist()\n",
    "print(mostFrequentGenres.sort_values(ascending = False))"
   ]
  },
  {
   "cell_type": "code",
   "execution_count": 61,
   "metadata": {},
   "outputs": [
    {
     "data": {
      "text/html": [
       "<div>\n",
       "<style scoped>\n",
       "    .dataframe tbody tr th:only-of-type {\n",
       "        vertical-align: middle;\n",
       "    }\n",
       "\n",
       "    .dataframe tbody tr th {\n",
       "        vertical-align: top;\n",
       "    }\n",
       "\n",
       "    .dataframe thead th {\n",
       "        text-align: right;\n",
       "    }\n",
       "</style>\n",
       "<table border=\"1\" class=\"dataframe\">\n",
       "  <thead>\n",
       "    <tr style=\"text-align: right;\">\n",
       "      <th></th>\n",
       "      <th>Plot</th>\n",
       "      <th>Genre</th>\n",
       "    </tr>\n",
       "  </thead>\n",
       "  <tbody>\n",
       "    <tr>\n",
       "      <th>count</th>\n",
       "      <td>16923</td>\n",
       "      <td>16923</td>\n",
       "    </tr>\n",
       "    <tr>\n",
       "      <th>unique</th>\n",
       "      <td>16783</td>\n",
       "      <td>10</td>\n",
       "    </tr>\n",
       "    <tr>\n",
       "      <th>top</th>\n",
       "      <td>The plot revolves around the players on a hock...</td>\n",
       "      <td>drama</td>\n",
       "    </tr>\n",
       "    <tr>\n",
       "      <th>freq</th>\n",
       "      <td>4</td>\n",
       "      <td>5964</td>\n",
       "    </tr>\n",
       "  </tbody>\n",
       "</table>\n",
       "</div>"
      ],
      "text/plain": [
       "                                                     Plot  Genre\n",
       "count                                               16923  16923\n",
       "unique                                              16783     10\n",
       "top     The plot revolves around the players on a hock...  drama\n",
       "freq                                                    4   5964"
      ]
     },
     "execution_count": 61,
     "metadata": {},
     "output_type": "execute_result"
    }
   ],
   "source": [
    "filmsFrequent = films[films['Genre'].isin(genresList)]\n",
    "filmsFrequent.describe()"
   ]
  },
  {
   "cell_type": "code",
   "execution_count": 9,
   "metadata": {},
   "outputs": [
    {
     "data": {
      "image/png": "[encoded data removed]",
      "text/plain": [
       "<Figure size 864x720 with 1 Axes>"
      ]
     },
     "metadata": {
      "needs_background": "light"
     },
     "output_type": "display_data"
    }
   ],
   "source": [
    "from matplotlib import pyplot as plt\n",
    "\n",
    "plt.figure(figsize = [12, 10])\n",
    "plt.bar(genresList, mostFrequentGenres)\n",
    "plt.show()"
   ]
  },
  {
   "cell_type": "code",
   "execution_count": 10,
   "metadata": {},
   "outputs": [
    {
     "data": {
      "text/html": [
       "<div>\n",
       "<style scoped>\n",
       "    .dataframe tbody tr th:only-of-type {\n",
       "        vertical-align: middle;\n",
       "    }\n",
       "\n",
       "    .dataframe tbody tr th {\n",
       "        vertical-align: top;\n",
       "    }\n",
       "\n",
       "    .dataframe thead th {\n",
       "        text-align: right;\n",
       "    }\n",
       "</style>\n",
       "<table border=\"1\" class=\"dataframe\">\n",
       "  <thead>\n",
       "    <tr style=\"text-align: right;\">\n",
       "      <th></th>\n",
       "      <th>Plot</th>\n",
       "      <th>Genre</th>\n",
       "    </tr>\n",
       "  </thead>\n",
       "  <tbody>\n",
       "    <tr>\n",
       "      <th>0</th>\n",
       "      <td>The film opens with two bandits breaking into ...</td>\n",
       "      <td>western</td>\n",
       "    </tr>\n",
       "    <tr>\n",
       "      <th>1</th>\n",
       "      <td>The film is about a family who move to the sub...</td>\n",
       "      <td>comedy</td>\n",
       "    </tr>\n",
       "    <tr>\n",
       "      <th>6</th>\n",
       "      <td>Before heading out to a baseball game at a nea...</td>\n",
       "      <td>comedy</td>\n",
       "    </tr>\n",
       "    <tr>\n",
       "      <th>7</th>\n",
       "      <td>The plot is that of a black woman going to the...</td>\n",
       "      <td>comedy</td>\n",
       "    </tr>\n",
       "    <tr>\n",
       "      <th>8</th>\n",
       "      <td>On a beautiful summer day a father and mother ...</td>\n",
       "      <td>drama</td>\n",
       "    </tr>\n",
       "  </tbody>\n",
       "</table>\n",
       "</div>"
      ],
      "text/plain": [
       "                                                Plot    Genre\n",
       "0  The film opens with two bandits breaking into ...  western\n",
       "1  The film is about a family who move to the sub...   comedy\n",
       "6  Before heading out to a baseball game at a nea...   comedy\n",
       "7  The plot is that of a black woman going to the...   comedy\n",
       "8  On a beautiful summer day a father and mother ...    drama"
      ]
     },
     "execution_count": 10,
     "metadata": {},
     "output_type": "execute_result"
    }
   ],
   "source": [
    "filmsFrequent.head()"
   ]
  },
  {
   "cell_type": "code",
   "execution_count": 12,
   "metadata": {},
   "outputs": [
    {
     "name": "stderr",
     "output_type": "stream",
     "text": [
      "[nltk_data] Downloading package stopwords to\n",
      "[nltk_data]     C:\\Users\\48516\\AppData\\Roaming\\nltk_data...\n",
      "[nltk_data]   Package stopwords is already up-to-date!\n"
     ]
    },
    {
     "data": {
      "text/plain": [
       "True"
      ]
     },
     "execution_count": 12,
     "metadata": {},
     "output_type": "execute_result"
    }
   ],
   "source": [
    "nltk.download('stopwords')"
   ]
  },
  {
   "cell_type": "code",
   "execution_count": 12,
   "metadata": {},
   "outputs": [
    {
     "name": "stdout",
     "output_type": "stream",
     "text": [
      "['i', 'me', 'my', 'myself', 'we', 'our', 'ours', 'ourselves', 'you', \"you're\", \"you've\", \"you'll\", \"you'd\", 'your', 'yours', 'yourself', 'yourselves', 'he', 'him', 'his', 'himself', 'she', \"she's\", 'her', 'hers', 'herself', 'it', \"it's\", 'its', 'itself', 'they', 'them', 'their', 'theirs', 'themselves', 'what', 'which', 'who', 'whom', 'this', 'that', \"that'll\", 'these', 'those', 'am', 'is', 'are', 'was', 'were', 'be', 'been', 'being', 'have', 'has', 'had', 'having', 'do', 'does', 'did', 'doing', 'a', 'an', 'the', 'and', 'but', 'if', 'or', 'because', 'as', 'until', 'while', 'of', 'at', 'by', 'for', 'with', 'about', 'against', 'between', 'into', 'through', 'during', 'before', 'after', 'above', 'below', 'to', 'from', 'up', 'down', 'in', 'out', 'on', 'off', 'over', 'under', 'again', 'further', 'then', 'once', 'here', 'there', 'when', 'where', 'why', 'how', 'all', 'any', 'both', 'each', 'few', 'more', 'most', 'other', 'some', 'such', 'no', 'nor', 'not', 'only', 'own', 'same', 'so', 'than', 'too', 'very', 's', 't', 'can', 'will', 'just', 'don', \"don't\", 'should', \"should've\", 'now', 'd', 'll', 'm', 'o', 're', 've', 'y', 'ain', 'aren', \"aren't\", 'couldn', \"couldn't\", 'didn', \"didn't\", 'doesn', \"doesn't\", 'hadn', \"hadn't\", 'hasn', \"hasn't\", 'haven', \"haven't\", 'isn', \"isn't\", 'ma', 'mightn', \"mightn't\", 'mustn', \"mustn't\", 'needn', \"needn't\", 'shan', \"shan't\", 'shouldn', \"shouldn't\", 'wasn', \"wasn't\", 'weren', \"weren't\", 'won', \"won't\", 'wouldn', \"wouldn't\"]\n"
     ]
    }
   ],
   "source": [
    "stopwords = nltk.corpus.stopwords.words('english')\n",
    "print(stopwords)"
   ]
  },
  {
   "cell_type": "code",
   "execution_count": 7,
   "metadata": {},
   "outputs": [],
   "source": [
    "def processPlot(plot):\n",
    "    plot = re.sub(r'[^a-zA-Z]', ' ', plot)\n",
    "    tokens = nltk.word_tokenize(plot)\n",
    "    tokens = [token.lower() for token in tokens]\n",
    "    porter = nltk.PorterStemmer()\n",
    "    stems = [porter.stem(token) for token in tokens]\n",
    "    return stems"
   ]
  },
  {
   "cell_type": "code",
   "execution_count": 14,
   "metadata": {},
   "outputs": [
    {
     "name": "stdout",
     "output_type": "stream",
     "text": [
      "['the', 'film', 'open', 'with', 'two', 'bandit', 'break', 'into', 'a', 'railroad', 'telegraph', 'offic', 'where', 'they', 'forc', 'the', 'oper', 'at', 'gunpoint', 'to', 'have', 'a', 'train', 'stop', 'and', 'to', 'transmit', 'order', 'for', 'the', 'engin', 'to', 'fill', 'the', 'locomot', 's', 'tender', 'at', 'the', 'station', 's', 'water', 'tank', 'they', 'then', 'knock', 'the', 'oper', 'out', 'and', 'tie', 'him', 'up', 'as', 'the', 'train', 'stop', 'it', 'is', 'board', 'by', 'the', 'bandit', 'now', 'four', 'two', 'bandit', 'enter', 'an', 'express', 'car', 'kill', 'a', 'messeng', 'and', 'open', 'a', 'box', 'of', 'valuabl', 'with', 'dynamit', 'the', 'other', 'kill', 'the', 'fireman', 'and', 'forc', 'the', 'engin', 'to', 'halt', 'the', 'train', 'and', 'disconnect', 'the', 'locomot', 'the', 'bandit', 'then', 'forc', 'the', 'passeng', 'off', 'the', 'train', 'and', 'rifl', 'them', 'for', 'their', 'belong', 'one', 'passeng', 'tri', 'to', 'escap', 'but', 'is', 'instantli', 'shot', 'down', 'carri', 'their', 'loot', 'the', 'bandit', 'escap', 'in', 'the', 'locomot', 'later', 'stop', 'in', 'a', 'valley', 'where', 'their', 'hors', 'had', 'been', 'left', 'meanwhil', 'back', 'in', 'the', 'telegraph', 'offic', 'the', 'bound', 'oper', 'awaken', 'but', 'he', 'collaps', 'again', 'hi', 'daughter', 'arriv', 'bring', 'him', 'hi', 'meal', 'and', 'cut', 'him', 'free', 'and', 'restor', 'him', 'to', 'conscious', 'by', 'dous', 'him', 'with', 'water', 'there', 'is', 'some', 'comic', 'relief', 'at', 'a', 'danc', 'hall', 'where', 'an', 'eastern', 'stranger', 'is', 'forc', 'to', 'danc', 'while', 'the', 'local', 'fire', 'at', 'hi', 'feet', 'the', 'door', 'suddenli', 'open', 'and', 'the', 'telegraph', 'oper', 'rush', 'in', 'to', 'tell', 'them', 'of', 'the', 'robberi', 'the', 'men', 'quickli', 'form', 'a', 'poss', 'which', 'overtak', 'the', 'bandit', 'and', 'in', 'a', 'final', 'shootout', 'kill', 'them', 'all', 'and', 'recov', 'the', 'stolen', 'mail']\n"
     ]
    }
   ],
   "source": [
    "print(processPlot(filmsFrequent.iloc[0, 0]))"
   ]
  },
  {
   "cell_type": "code",
   "execution_count": 15,
   "metadata": {},
   "outputs": [
    {
     "name": "stderr",
     "output_type": "stream",
     "text": [
      "C:\\ProgramData\\Anaconda3\\lib\\site-packages\\sklearn\\feature_extraction\\text.py:383: UserWarning: Your stop_words may be inconsistent with your preprocessing. Tokenizing the stop words generated tokens ['abov', 'afterward', 'alon', 'alreadi', 'alway', 'ani', 'anoth', 'anyon', 'anyth', 'anywher', 'becam', 'becaus', 'becom', 'befor', 'besid', 'cri', 'describ', 'dure', 'els', 'elsewher', 'empti', 'everi', 'everyon', 'everyth', 'everywher', 'fifti', 'formerli', 'forti', 'ha', 'henc', 'hereaft', 'herebi', 'hi', 'howev', 'hundr', 'inde', 'latterli', 'mani', 'meanwhil', 'moreov', 'mostli', 'nobodi', 'noon', 'noth', 'nowher', 'onc', 'onli', 'otherwis', 'ourselv', 'perhap', 'pleas', 'seriou', 'sever', 'sinc', 'sincer', 'sixti', 'someon', 'someth', 'sometim', 'somewher', 'themselv', 'thenc', 'thereaft', 'therebi', 'therefor', 'thi', 'thu', 'togeth', 'twelv', 'twenti', 'veri', 'wa', 'whatev', 'whenc', 'whenev', 'wherea', 'whereaft', 'wherebi', 'wherev', 'whi', 'yourselv'] not in stop_words.\n",
      "  warnings.warn('Your stop_words may be inconsistent with '\n"
     ]
    }
   ],
   "source": [
    "X = filmsFrequent['Plot'].values\n",
    "y = filmsFrequent['Genre'].values\n",
    "\n",
    "encoder = LabelEncoder()\n",
    "y = encoder.fit_transform(y)\n",
    "XTrain, XTest, yTrain, yTest = train_test_split(X, y, test_size = 0.3)\n",
    "\n",
    "vectorizer = CountVectorizer(tokenizer = processPlot, lowercase = True, stop_words = 'english', max_features = 20000)\n",
    "XTrain = vectorizer.fit_transform(XTrain).toarray()\n",
    "XTest = vectorizer.fit_transform(XTest).toarray()"
   ]
  },
  {
   "cell_type": "code",
   "execution_count": 16,
   "metadata": {},
   "outputs": [
    {
     "data": {
      "text/plain": [
       "(11846, 20000)"
      ]
     },
     "execution_count": 16,
     "metadata": {},
     "output_type": "execute_result"
    }
   ],
   "source": [
    "XTrain.shape"
   ]
  },
  {
   "cell_type": "code",
   "execution_count": 17,
   "metadata": {},
   "outputs": [
    {
     "name": "stdout",
     "output_type": "stream",
     "text": [
      "(11846, 20000) (5077, 20000) (11846,) (5077,)\n"
     ]
    }
   ],
   "source": [
    "print(XTrain.shape, XTest.shape, yTrain.shape, yTest.shape)"
   ]
  },
  {
   "cell_type": "code",
   "execution_count": 18,
   "metadata": {
    "scrolled": true
   },
   "outputs": [
    {
     "name": "stdout",
     "output_type": "stream",
     "text": [
      "Epoch 1/20\n",
      "371/371 [==============================] - 3s 8ms/step - loss: 3.3249 - acc: 0.3362 - val_loss: 2.7505 - val_acc: 0.3520\n",
      "Epoch 2/20\n",
      "371/371 [==============================] - 2s 6ms/step - loss: 2.7513 - acc: 0.3568 - val_loss: 2.6320 - val_acc: 0.3520\n",
      "Epoch 3/20\n",
      "371/371 [==============================] - 2s 6ms/step - loss: 2.7167 - acc: 0.3533 - val_loss: 2.6684 - val_acc: 0.3520\n",
      "Epoch 4/20\n",
      "371/371 [==============================] - 2s 6ms/step - loss: 2.6947 - acc: 0.3536 - val_loss: 2.6616 - val_acc: 0.3520\n",
      "Epoch 5/20\n",
      "371/371 [==============================] - 2s 6ms/step - loss: 2.6700 - acc: 0.3587 - val_loss: 2.6670 - val_acc: 0.3520\n",
      "Epoch 6/20\n",
      "371/371 [==============================] - 2s 6ms/step - loss: 2.6761 - acc: 0.3526 - val_loss: 2.6704 - val_acc: 0.3520\n",
      "Epoch 7/20\n",
      "371/371 [==============================] - 2s 6ms/step - loss: 2.6795 - acc: 0.3470 - val_loss: 2.6704 - val_acc: 0.3520\n",
      "Epoch 8/20\n",
      "371/371 [==============================] - 2s 6ms/step - loss: 2.6839 - acc: 0.3523 - val_loss: 2.6705 - val_acc: 0.3520\n",
      "Epoch 9/20\n",
      "371/371 [==============================] - 2s 6ms/step - loss: 2.6828 - acc: 0.3532 - val_loss: 2.6697 - val_acc: 0.3520\n",
      "Epoch 10/20\n",
      "371/371 [==============================] - 2s 6ms/step - loss: 2.6698 - acc: 0.3551 - val_loss: 2.6713 - val_acc: 0.3520\n",
      "Epoch 11/20\n",
      "371/371 [==============================] - 2s 6ms/step - loss: 2.6810 - acc: 0.3569 - val_loss: 2.6704 - val_acc: 0.3520\n",
      "Epoch 12/20\n",
      "371/371 [==============================] - 2s 6ms/step - loss: 2.6871 - acc: 0.3543 - val_loss: 2.6705 - val_acc: 0.3520\n",
      "Epoch 13/20\n",
      "371/371 [==============================] - 2s 6ms/step - loss: 2.6783 - acc: 0.3502 - val_loss: 2.6702 - val_acc: 0.3520\n",
      "Epoch 14/20\n",
      "371/371 [==============================] - 2s 6ms/step - loss: 2.6835 - acc: 0.3555 - val_loss: 2.6700 - val_acc: 0.3520\n",
      "Epoch 15/20\n",
      "371/371 [==============================] - 2s 6ms/step - loss: 2.6732 - acc: 0.3545 - val_loss: 2.6701 - val_acc: 0.3520\n",
      "Epoch 16/20\n",
      "371/371 [==============================] - 2s 6ms/step - loss: 2.6790 - acc: 0.3558 - val_loss: 2.6705 - val_acc: 0.3520\n",
      "Epoch 17/20\n",
      "371/371 [==============================] - 2s 6ms/step - loss: 2.6762 - acc: 0.3546 - val_loss: 2.6700 - val_acc: 0.3520\n",
      "Epoch 18/20\n",
      "371/371 [==============================] - 2s 6ms/step - loss: 2.6850 - acc: 0.3508 - val_loss: 2.6703 - val_acc: 0.3520\n",
      "Epoch 19/20\n",
      "371/371 [==============================] - 2s 6ms/step - loss: 2.6713 - acc: 0.3552 - val_loss: 2.6699 - val_acc: 0.3520\n",
      "Epoch 20/20\n",
      "371/371 [==============================] - 2s 6ms/step - loss: 2.6866 - acc: 0.3518 - val_loss: 2.6702 - val_acc: 0.3520\n"
     ]
    }
   ],
   "source": [
    "modelMLP1 = Sequential()\n",
    "modelMLP1.add(layers.Dense(16, activation = 'relu', input_dim = 20000, kernel_regularizer = regularizers.l2(0.1)))\n",
    "modelMLP1.add(layers.Dropout(0.5))\n",
    "modelMLP1.add(layers.Dense(16, activation = 'relu', kernel_regularizer = regularizers.l2(0.1)))\n",
    "modelMLP1.add(layers.Dropout(0.5))\n",
    "modelMLP1.add(layers.Dense(10, activation = 'softmax'))\n",
    "modelMLP1.compile(loss = 'sparse_categorical_crossentropy', optimizer = optimizers.RMSprop(lr = 0.01), metrics = 'acc')\n",
    "history1 = modelMLP1.fit(XTrain, yTrain, epochs = 20, validation_data = (XTest, yTest))"
   ]
  },
  {
   "cell_type": "code",
   "execution_count": 19,
   "metadata": {},
   "outputs": [
    {
     "name": "stdout",
     "output_type": "stream",
     "text": [
      "[[   0    0    0    0  324    0    0    0    0    0]\n",
      " [   0    0    0    0  169    0    0    0    0    0]\n",
      " [   0    0    0    0 1328    0    0    0    0    0]\n",
      " [   0    0    0    0  159    0    0    0    0    0]\n",
      " [   0    0    0    0 1787    0    0    0    0    0]\n",
      " [   0    0    0    0  353    0    0    0    0    0]\n",
      " [   0    0    0    0  126    0    0    0    0    0]\n",
      " [   0    0    0    0  280    0    0    0    0    0]\n",
      " [   0    0    0    0  290    0    0    0    0    0]\n",
      " [   0    0    0    0  261    0    0    0    0    0]]\n"
     ]
    }
   ],
   "source": [
    "from sklearn.metrics import classification_report, confusion_matrix\n",
    "yPred = modelMLP1.predict(XTest)\n",
    "print(confusion_matrix(yTest, yPred.argmax(axis = 1)))"
   ]
  },
  {
   "cell_type": "code",
   "execution_count": 132,
   "metadata": {},
   "outputs": [
    {
     "data": {
      "text/plain": [
       "467"
      ]
     },
     "execution_count": 132,
     "metadata": {},
     "output_type": "execute_result"
    }
   ],
   "source": [
    "filmsMusical = filmsFrequent[filmsFrequent['Genre'] == 'musical']\n",
    "filmsMusical.shape[0]"
   ]
  },
  {
   "cell_type": "code",
   "execution_count": 133,
   "metadata": {},
   "outputs": [
    {
     "name": "stdout",
     "output_type": "stream",
     "text": [
      "adventure    467\n",
      "crime        467\n",
      "musical      467\n",
      "romance      467\n",
      "horror       467\n",
      "action       467\n",
      "comedy       467\n",
      "western      467\n",
      "drama        467\n",
      "thriller     467\n",
      "Name: Genre, dtype: int64\n"
     ]
    }
   ],
   "source": [
    "from sklearn.utils import resample\n",
    "\n",
    "filmsDrama = filmsFrequent[filmsFrequent['Genre'] == 'drama'].sample(467)\n",
    "filmsComedy = filmsFrequent[filmsFrequent['Genre'] == 'comedy'].sample(467)\n",
    "filmsHorror = filmsFrequent[filmsFrequent['Genre'] == 'horror'].sample(467)\n",
    "filmsAction = filmsFrequent[filmsFrequent['Genre'] == 'action'].sample(467)\n",
    "filmsThriller = filmsFrequent[filmsFrequent['Genre'] == 'thriller'].sample(467)\n",
    "filmsRomance = filmsFrequent[filmsFrequent['Genre'] == 'romance'].sample(467)\n",
    "filmsWestern = filmsFrequent[filmsFrequent['Genre'] == 'western'].sample(467)\n",
    "filmsCrime = filmsFrequent[filmsFrequent['Genre'] == 'crime'].sample(467)\n",
    "filmsAdventure = filmsFrequent[filmsFrequent['Genre'] == 'adventure'].sample(467)\n",
    "filmsUnder = pd.concat([filmsDrama, filmsComedy, filmsHorror, filmsAction, filmsThriller, filmsRomance, filmsWestern,\n",
    "                       filmsCrime, filmsAdventure, filmsMusical])\n",
    "filmsUnder = filmsUnder.sample(frac = 1).reset_index(drop = True)\n",
    "print(filmsUnder['Genre'].value_counts().sort_values(ascending = False))"
   ]
  },
  {
   "cell_type": "code",
   "execution_count": 134,
   "metadata": {},
   "outputs": [],
   "source": [
    "X = filmsUnder['Plot'].values\n",
    "y = filmsUnder['Genre'].values\n",
    "encoder = LabelEncoder()\n",
    "y = encoder.fit_transform(y)\n",
    "XTrain, XTest, yTrain, yTest = train_test_split(X, y, test_size = 0.3)\n",
    "vectorizer = CountVectorizer(lowercase = True, stop_words = 'english', max_features = 250)\n",
    "XTrain = vectorizer.fit_transform(XTrain).toarray()\n",
    "XTest = vectorizer.fit_transform(XTest).toarray()"
   ]
  },
  {
   "cell_type": "code",
   "execution_count": 135,
   "metadata": {},
   "outputs": [
    {
     "name": "stdout",
     "output_type": "stream",
     "text": [
      "(3269, 250) (1401, 250) (3269,) (1401,)\n"
     ]
    }
   ],
   "source": [
    "print(XTrain.shape, XTest.shape, yTrain.shape, yTest.shape)"
   ]
  },
  {
   "cell_type": "code",
   "execution_count": 137,
   "metadata": {},
   "outputs": [
    {
     "name": "stdout",
     "output_type": "stream",
     "text": [
      "Epoch 1/20\n",
      "33/33 [==============================] - 0s 5ms/step - loss: 3.5787 - acc: 0.0942 - val_loss: 2.7081 - val_acc: 0.1035\n",
      "Epoch 2/20\n",
      "33/33 [==============================] - 0s 2ms/step - loss: 2.5920 - acc: 0.1120 - val_loss: 2.4255 - val_acc: 0.0906\n",
      "Epoch 3/20\n",
      "33/33 [==============================] - 0s 2ms/step - loss: 2.3486 - acc: 0.1470 - val_loss: 2.3542 - val_acc: 0.1085\n",
      "Epoch 4/20\n",
      "33/33 [==============================] - 0s 2ms/step - loss: 2.2638 - acc: 0.1857 - val_loss: 2.3571 - val_acc: 0.1056\n",
      "Epoch 5/20\n",
      "33/33 [==============================] - 0s 2ms/step - loss: 2.2183 - acc: 0.2198 - val_loss: 2.3646 - val_acc: 0.1113\n",
      "Epoch 6/20\n",
      "33/33 [==============================] - 0s 2ms/step - loss: 2.1943 - acc: 0.2334 - val_loss: 2.3689 - val_acc: 0.1221\n",
      "Epoch 7/20\n",
      "33/33 [==============================] - 0s 2ms/step - loss: 2.1802 - acc: 0.2296 - val_loss: 2.3743 - val_acc: 0.1256\n",
      "Epoch 8/20\n",
      "33/33 [==============================] - 0s 2ms/step - loss: 2.1698 - acc: 0.2400 - val_loss: 2.3876 - val_acc: 0.1206\n",
      "Epoch 9/20\n",
      "33/33 [==============================] - 0s 2ms/step - loss: 2.1782 - acc: 0.2390 - val_loss: 2.3911 - val_acc: 0.1092\n",
      "Epoch 10/20\n",
      "33/33 [==============================] - 0s 2ms/step - loss: 2.1503 - acc: 0.2683 - val_loss: 2.3933 - val_acc: 0.1228\n",
      "Epoch 11/20\n",
      "33/33 [==============================] - 0s 2ms/step - loss: 2.1525 - acc: 0.2498 - val_loss: 2.4160 - val_acc: 0.1006\n",
      "Epoch 12/20\n",
      "33/33 [==============================] - 0s 2ms/step - loss: 2.1467 - acc: 0.2498 - val_loss: 2.4136 - val_acc: 0.0992\n",
      "Epoch 13/20\n",
      "33/33 [==============================] - 0s 2ms/step - loss: 2.1379 - acc: 0.2534 - val_loss: 2.4055 - val_acc: 0.1113\n",
      "Epoch 14/20\n",
      "33/33 [==============================] - 0s 2ms/step - loss: 2.1487 - acc: 0.2512 - val_loss: 2.4195 - val_acc: 0.1156\n",
      "Epoch 15/20\n",
      "33/33 [==============================] - 0s 2ms/step - loss: 2.1324 - acc: 0.2627 - val_loss: 2.4290 - val_acc: 0.1064\n",
      "Epoch 16/20\n",
      "33/33 [==============================] - 0s 2ms/step - loss: 2.1399 - acc: 0.2514 - val_loss: 2.4115 - val_acc: 0.1128\n",
      "Epoch 17/20\n",
      "33/33 [==============================] - 0s 2ms/step - loss: 2.1263 - acc: 0.2595 - val_loss: 2.4329 - val_acc: 0.0949\n",
      "Epoch 18/20\n",
      "33/33 [==============================] - 0s 2ms/step - loss: 2.1414 - acc: 0.2513 - val_loss: 2.4211 - val_acc: 0.1056\n",
      "Epoch 19/20\n",
      "33/33 [==============================] - 0s 2ms/step - loss: 2.1217 - acc: 0.2686 - val_loss: 2.4341 - val_acc: 0.1049\n",
      "Epoch 20/20\n",
      "33/33 [==============================] - 0s 2ms/step - loss: 2.1171 - acc: 0.2552 - val_loss: 2.4233 - val_acc: 0.1221\n"
     ]
    }
   ],
   "source": [
    "modelMLP2 = Sequential()\n",
    "modelMLP2.add(layers.Dense(8, activation = 'relu', input_dim = 250, kernel_regularizer = regularizers.l2(0.1)))\n",
    "modelMLP2.add(layers.Dropout(0.5))\n",
    "modelMLP2.add(layers.Dense(10, activation = 'softmax'))\n",
    "modelMLP2.compile(loss = 'sparse_categorical_crossentropy', optimizer = optimizers.SGD(lr = 0.1), metrics = 'acc')\n",
    "history2 = modelMLP2.fit(XTrain, yTrain, epochs = 20, validation_data = (XTest, yTest), batch_size = 100)"
   ]
  },
  {
   "cell_type": "code",
   "execution_count": 138,
   "metadata": {},
   "outputs": [
    {
     "name": "stdout",
     "output_type": "stream",
     "text": [
      "[[14 13  2  2 31 10 10 14 10 26]\n",
      " [13 14  2  6 43 11 12 16  7 30]\n",
      " [ 6 16  3  5 42  9 17 13  7 30]\n",
      " [ 6 10  2  7 42  8 25  5  5 31]\n",
      " [ 6 10  3  7 36  9 14 11  3 20]\n",
      " [ 7 27  4  1 27 30 10 20  4 15]\n",
      " [ 7 14  3  9 34 17 16  3  5 40]\n",
      " [ 5 21  0  4 40  6 13 13  3 31]\n",
      " [ 7  9  5  7 35 22 25 12  9 17]\n",
      " [ 6 11  5  2 38  6 18 12  3 29]]\n"
     ]
    }
   ],
   "source": [
    "from sklearn.metrics import classification_report, confusion_matrix\n",
    "\n",
    "yPred = modelMLP2.predict(XTest)\n",
    "print(confusion_matrix(yTest, yPred.argmax(axis = 1)))"
   ]
  },
  {
   "cell_type": "code",
   "execution_count": 62,
   "metadata": {},
   "outputs": [],
   "source": [
    "from keras.backend import clear_session\n",
    "clear_session()"
   ]
  },
  {
   "cell_type": "code",
   "execution_count": 63,
   "metadata": {},
   "outputs": [
    {
     "name": "stdout",
     "output_type": "stream",
     "text": [
      "western      5000\n",
      "thriller     5000\n",
      "action       5000\n",
      "drama        5000\n",
      "comedy       5000\n",
      "musical      5000\n",
      "romance      5000\n",
      "adventure    5000\n",
      "horror       5000\n",
      "crime        5000\n",
      "Name: Genre, dtype: int64\n"
     ]
    }
   ],
   "source": [
    "filmsDrama = filmsFrequent[filmsFrequent['Genre'] == 'drama'].sample(5000, replace = True)\n",
    "filmsComedy = filmsFrequent[filmsFrequent['Genre'] == 'comedy'].sample(5000, replace = True)\n",
    "filmsHorror = filmsFrequent[filmsFrequent['Genre'] == 'horror'].sample(5000, replace = True)\n",
    "filmsAction = filmsFrequent[filmsFrequent['Genre'] == 'action'].sample(5000, replace = True)\n",
    "filmsThriller = filmsFrequent[filmsFrequent['Genre'] == 'thriller'].sample(5000, replace = True)\n",
    "filmsRomance = filmsFrequent[filmsFrequent['Genre'] == 'romance'].sample(5000, replace = True)\n",
    "filmsWestern = filmsFrequent[filmsFrequent['Genre'] == 'western'].sample(5000, replace = True)\n",
    "filmsCrime = filmsFrequent[filmsFrequent['Genre'] == 'crime'].sample(5000, replace = True)\n",
    "filmsAdventure = filmsFrequent[filmsFrequent['Genre'] == 'adventure'].sample(5000, replace = True)\n",
    "filmsMusical = filmsFrequent[filmsFrequent['Genre'] == 'musical'].sample(5000, replace = True)\n",
    "filmsOver = pd.concat([filmsDrama, filmsComedy, filmsHorror, filmsAction, filmsThriller, filmsRomance, filmsWestern,\n",
    "                       filmsCrime, filmsAdventure, filmsMusical])\n",
    "filmsOver = filmsOver.sample(frac = 1).reset_index(drop = True)\n",
    "print(filmsOver['Genre'].value_counts().sort_values(ascending = False))"
   ]
  },
  {
   "cell_type": "code",
   "execution_count": 115,
   "metadata": {},
   "outputs": [],
   "source": [
    "X = filmsOver['Plot'].values\n",
    "y = filmsOver['Genre'].values\n",
    "encoder = LabelEncoder()\n",
    "y = encoder.fit_transform(y)\n",
    "XTrain, XTest, yTrain, yTest = train_test_split(X, y, test_size = 0.1)"
   ]
  },
  {
   "cell_type": "code",
   "execution_count": 116,
   "metadata": {},
   "outputs": [],
   "source": [
    "vectorizer = CountVectorizer(lowercase = True, stop_words = 'english', max_features = 100)\n",
    "XTrain = vectorizer.fit_transform(XTrain).toarray()\n",
    "XTest = vectorizer.fit_transform(XTest).toarray()"
   ]
  },
  {
   "cell_type": "code",
   "execution_count": 117,
   "metadata": {},
   "outputs": [
    {
     "name": "stdout",
     "output_type": "stream",
     "text": [
      "(45000, 100) (5000, 100) (45000,) (5000,)\n"
     ]
    }
   ],
   "source": [
    "print(XTrain.shape, XTest.shape, yTrain.shape, yTest.shape)"
   ]
  },
  {
   "cell_type": "code",
   "execution_count": 118,
   "metadata": {
    "scrolled": false
   },
   "outputs": [
    {
     "name": "stdout",
     "output_type": "stream",
     "text": [
      "Epoch 1/40\n",
      "450/450 [==============================] - 1s 822us/step - loss: 2.9309 - acc: 0.1227 - val_loss: 2.2624 - val_acc: 0.1808\n",
      "Epoch 2/40\n",
      "450/450 [==============================] - 0s 679us/step - loss: 2.1890 - acc: 0.2097 - val_loss: 2.2342 - val_acc: 0.2114\n",
      "Epoch 3/40\n",
      "450/450 [==============================] - 0s 597us/step - loss: 2.1442 - acc: 0.2258 - val_loss: 2.2142 - val_acc: 0.2160\n",
      "Epoch 4/40\n",
      "450/450 [==============================] - 0s 583us/step - loss: 2.1181 - acc: 0.2325 - val_loss: 2.2175 - val_acc: 0.2100\n",
      "Epoch 5/40\n",
      "450/450 [==============================] - 0s 631us/step - loss: 2.1000 - acc: 0.2455 - val_loss: 2.2062 - val_acc: 0.2096\n",
      "Epoch 6/40\n",
      "450/450 [==============================] - 0s 640us/step - loss: 2.0896 - acc: 0.2550 - val_loss: 2.1976 - val_acc: 0.2110\n",
      "Epoch 7/40\n",
      "450/450 [==============================] - 0s 594us/step - loss: 2.0789 - acc: 0.2570 - val_loss: 2.1968 - val_acc: 0.2128\n",
      "Epoch 8/40\n",
      "450/450 [==============================] - 0s 583us/step - loss: 2.0703 - acc: 0.2593 - val_loss: 2.1881 - val_acc: 0.2144\n",
      "Epoch 9/40\n",
      "450/450 [==============================] - 0s 644us/step - loss: 2.0653 - acc: 0.2628 - val_loss: 2.1973 - val_acc: 0.2048\n",
      "Epoch 10/40\n",
      "450/450 [==============================] - 0s 659us/step - loss: 2.0636 - acc: 0.2616 - val_loss: 2.1828 - val_acc: 0.2190\n",
      "Epoch 11/40\n",
      "450/450 [==============================] - 0s 584us/step - loss: 2.0538 - acc: 0.2661 - val_loss: 2.1884 - val_acc: 0.2124\n",
      "Epoch 12/40\n",
      "450/450 [==============================] - 0s 595us/step - loss: 2.0580 - acc: 0.2616 - val_loss: 2.1828 - val_acc: 0.2046\n",
      "Epoch 13/40\n",
      "450/450 [==============================] - 0s 627us/step - loss: 2.0529 - acc: 0.2657 - val_loss: 2.1780 - val_acc: 0.2218\n",
      "Epoch 14/40\n",
      "450/450 [==============================] - 0s 610us/step - loss: 2.0469 - acc: 0.2692 - val_loss: 2.1952 - val_acc: 0.2016\n",
      "Epoch 15/40\n",
      "450/450 [==============================] - 0s 588us/step - loss: 2.0459 - acc: 0.2708 - val_loss: 2.1850 - val_acc: 0.2184\n",
      "Epoch 16/40\n",
      "450/450 [==============================] - 0s 630us/step - loss: 2.0482 - acc: 0.2644 - val_loss: 2.1862 - val_acc: 0.2138\n",
      "Epoch 17/40\n",
      "450/450 [==============================] - 0s 639us/step - loss: 2.0429 - acc: 0.2718 - val_loss: 2.1700 - val_acc: 0.2192\n",
      "Epoch 18/40\n",
      "450/450 [==============================] - 0s 705us/step - loss: 2.0359 - acc: 0.2717 - val_loss: 2.1912 - val_acc: 0.2068\n",
      "Epoch 19/40\n",
      "450/450 [==============================] - 0s 621us/step - loss: 2.0388 - acc: 0.2675 - val_loss: 2.1747 - val_acc: 0.2116\n",
      "Epoch 20/40\n",
      "450/450 [==============================] - 0s 624us/step - loss: 2.0345 - acc: 0.2713 - val_loss: 2.1768 - val_acc: 0.2144\n",
      "Epoch 21/40\n",
      "450/450 [==============================] - 0s 588us/step - loss: 2.0338 - acc: 0.2705 - val_loss: 2.1782 - val_acc: 0.2118\n",
      "Epoch 22/40\n",
      "450/450 [==============================] - 0s 600us/step - loss: 2.0351 - acc: 0.2740 - val_loss: 2.1739 - val_acc: 0.2210\n",
      "Epoch 23/40\n",
      "450/450 [==============================] - 0s 593us/step - loss: 2.0263 - acc: 0.2728 - val_loss: 2.1789 - val_acc: 0.2106\n",
      "Epoch 24/40\n",
      "450/450 [==============================] - 0s 593us/step - loss: 2.0338 - acc: 0.2678 - val_loss: 2.1843 - val_acc: 0.2112\n",
      "Epoch 25/40\n",
      "450/450 [==============================] - 0s 588us/step - loss: 2.0307 - acc: 0.2727 - val_loss: 2.1853 - val_acc: 0.2046\n",
      "Epoch 26/40\n",
      "450/450 [==============================] - 0s 644us/step - loss: 2.0299 - acc: 0.2706 - val_loss: 2.1829 - val_acc: 0.2152\n",
      "Epoch 27/40\n",
      "450/450 [==============================] - 0s 622us/step - loss: 2.0287 - acc: 0.2745 - val_loss: 2.1805 - val_acc: 0.2124\n",
      "Epoch 28/40\n",
      "450/450 [==============================] - 0s 583us/step - loss: 2.0294 - acc: 0.2759 - val_loss: 2.1959 - val_acc: 0.2016\n",
      "Epoch 29/40\n",
      "450/450 [==============================] - 0s 581us/step - loss: 2.0298 - acc: 0.2713 - val_loss: 2.1843 - val_acc: 0.2162\n",
      "Epoch 30/40\n",
      "450/450 [==============================] - 0s 681us/step - loss: 2.0304 - acc: 0.2722 - val_loss: 2.1978 - val_acc: 0.2030\n",
      "Epoch 31/40\n",
      "450/450 [==============================] - 0s 604us/step - loss: 2.0256 - acc: 0.2746 - val_loss: 2.1948 - val_acc: 0.2126\n",
      "Epoch 32/40\n",
      "450/450 [==============================] - 0s 597us/step - loss: 2.0282 - acc: 0.2717 - val_loss: 2.1961 - val_acc: 0.2066\n",
      "Epoch 33/40\n",
      "450/450 [==============================] - 0s 624us/step - loss: 2.0239 - acc: 0.2757 - val_loss: 2.1839 - val_acc: 0.2034\n",
      "Epoch 34/40\n",
      "450/450 [==============================] - 0s 652us/step - loss: 2.0244 - acc: 0.2765 - val_loss: 2.1945 - val_acc: 0.2002\n",
      "Epoch 35/40\n",
      "450/450 [==============================] - 0s 612us/step - loss: 2.0283 - acc: 0.2730 - val_loss: 2.1759 - val_acc: 0.2056\n",
      "Epoch 36/40\n",
      "450/450 [==============================] - 0s 627us/step - loss: 2.0226 - acc: 0.2749 - val_loss: 2.1802 - val_acc: 0.2138\n",
      "Epoch 37/40\n",
      "450/450 [==============================] - 0s 648us/step - loss: 2.0261 - acc: 0.2708 - val_loss: 2.1836 - val_acc: 0.2092\n",
      "Epoch 38/40\n",
      "450/450 [==============================] - 0s 570us/step - loss: 2.0258 - acc: 0.2692 - val_loss: 2.1814 - val_acc: 0.2182\n",
      "Epoch 39/40\n",
      "450/450 [==============================] - 0s 631us/step - loss: 2.0265 - acc: 0.2694 - val_loss: 2.1907 - val_acc: 0.2112\n",
      "Epoch 40/40\n",
      "450/450 [==============================] - 0s 609us/step - loss: 2.0277 - acc: 0.2720 - val_loss: 2.1642 - val_acc: 0.2244\n"
     ]
    }
   ],
   "source": [
    "modelMLP3 = Sequential()\n",
    "modelMLP3.add(layers.Dense(8, activation = 'relu', input_dim = 100, kernel_regularizer = regularizers.l2(0.1)))\n",
    "modelMLP3.add(layers.Dropout(0.5))\n",
    "modelMLP3.add(layers.Dense(10, activation = 'softmax'))\n",
    "modelMLP3.compile(loss = 'sparse_categorical_crossentropy', optimizer = optimizers.RMSprop(lr = 0.001), metrics = 'acc')\n",
    "history3 = modelMLP3.fit(XTrain, yTrain, epochs = 40, validation_data = (XTest, yTest), batch_size = 100)"
   ]
  },
  {
   "cell_type": "code",
   "execution_count": 110,
   "metadata": {},
   "outputs": [
    {
     "data": {
      "image/png": "[encoded data removed]",
      "text/plain": [
       "<Figure size 1440x720 with 1 Axes>"
      ]
     },
     "metadata": {
      "needs_background": "light"
     },
     "output_type": "display_data"
    }
   ],
   "source": [
    "from matplotlib import pyplot as plt\n",
    "plt.figure(figsize = [20, 10])\n",
    "plt.plot(history3.history['val_acc'], label = 'Accuracy (test)')\n",
    "plt.plot(history3.history['acc'], label = 'Accuracy (train)')\n",
    "plt.grid()\n",
    "plt.legend()\n",
    "plt.show()"
   ]
  },
  {
   "cell_type": "code",
   "execution_count": 42,
   "metadata": {},
   "outputs": [
    {
     "data": {
      "image/png": "[encoded data removed]",
      "text/plain": [
       "<Figure size 1440x720 with 1 Axes>"
      ]
     },
     "metadata": {
      "needs_background": "light"
     },
     "output_type": "display_data"
    }
   ],
   "source": [
    "plt.figure(figsize = [20, 10])\n",
    "plt.plot(history3.history['val_loss'], label = 'Loss (test)')\n",
    "plt.plot(history3.history['loss'], label = 'Loss (train)')\n",
    "plt.grid()\n",
    "plt.legend()\n",
    "plt.show()"
   ]
  },
  {
   "cell_type": "code",
   "execution_count": 125,
   "metadata": {},
   "outputs": [],
   "source": [
    "modelMLP3.save('C:\\\\Users\\\\48516\\\\Desktop\\\\Studia\\\\AIKE\\\\FilmsGenres\\\\mlp3_2.h5')"
   ]
  },
  {
   "cell_type": "code",
   "execution_count": null,
   "metadata": {},
   "outputs": [],
   "source": []
  }
 ],
 "metadata": {
  "kernelspec": {
   "display_name": "Python 3",
   "language": "python",
   "name": "python3"
  },
  "language_info": {
   "codemirror_mode": {
    "name": "ipython",
    "version": 3
   },
   "file_extension": ".py",
   "mimetype": "text/x-python",
   "name": "python",
   "nbconvert_exporter": "python",
   "pygments_lexer": "ipython3",
   "version": "3.8.5"
  }
 },
 "nbformat": 4,
 "nbformat_minor": 4
}
