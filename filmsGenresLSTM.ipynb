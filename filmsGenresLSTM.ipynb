{
 "cells": [
  {
   "cell_type": "code",
   "execution_count": 1,
   "metadata": {},
   "outputs": [],
   "source": [
    "import numpy as np\n",
    "import pandas as pd\n",
    "from keras.models import Sequential\n",
    "from keras import layers\n",
    "from keras import optimizers\n",
    "from keras import regularizers\n",
    "from keras.preprocessing.text import Tokenizer\n",
    "import nltk\n",
    "import re\n",
    "from sklearn.preprocessing import LabelEncoder\n",
    "from sklearn.model_selection import train_test_split\n",
    "from sklearn.feature_extraction.text import CountVectorizer\n",
    "from matplotlib import pyplot as plt"
   ]
  },
  {
   "cell_type": "code",
   "execution_count": 2,
   "metadata": {},
   "outputs": [
    {
     "name": "stdout",
     "output_type": "stream",
     "text": [
      "drama        5964\n",
      "comedy       4379\n",
      "horror       1167\n",
      "action       1098\n",
      "thriller      966\n",
      "romance       923\n",
      "western       865\n",
      "crime         568\n",
      "adventure     526\n",
      "musical       467\n",
      "Name: Genre, dtype: int64\n"
     ]
    }
   ],
   "source": [
    "films = pd.read_csv('C:\\\\Users\\\\48516\\\\Desktop\\\\Studia\\\\AIKE\\\\FilmsGenres\\\\wiki_movie_plots_deduped.csv')\n",
    "films = films[['Plot', 'Genre']]\n",
    "films.drop(films[films['Genre'] == 'unknown'].index, inplace = True)\n",
    "films.reset_index(drop = True, inplace = True)\n",
    "mostFrequentGenres = films['Genre'].value_counts()[:10]\n",
    "genresList = mostFrequentGenres.index.tolist()\n",
    "print(mostFrequentGenres.sort_values(ascending = False))"
   ]
  },
  {
   "cell_type": "code",
   "execution_count": 3,
   "metadata": {},
   "outputs": [
    {
     "name": "stdout",
     "output_type": "stream",
     "text": [
      "crime        5000\n",
      "horror       5000\n",
      "drama        5000\n",
      "musical      5000\n",
      "romance      5000\n",
      "western      5000\n",
      "thriller     5000\n",
      "comedy       5000\n",
      "adventure    5000\n",
      "action       5000\n",
      "Name: Genre, dtype: int64\n"
     ]
    }
   ],
   "source": [
    "filmsFrequent = films[films['Genre'].isin(genresList)]\n",
    "filmsDrama = filmsFrequent[filmsFrequent['Genre'] == 'drama'].sample(5000, replace = True)\n",
    "filmsComedy = filmsFrequent[filmsFrequent['Genre'] == 'comedy'].sample(5000, replace = True)\n",
    "filmsHorror = filmsFrequent[filmsFrequent['Genre'] == 'horror'].sample(5000, replace = True)\n",
    "filmsAction = filmsFrequent[filmsFrequent['Genre'] == 'action'].sample(5000, replace = True)\n",
    "filmsThriller = filmsFrequent[filmsFrequent['Genre'] == 'thriller'].sample(5000, replace = True)\n",
    "filmsRomance = filmsFrequent[filmsFrequent['Genre'] == 'romance'].sample(5000, replace = True)\n",
    "filmsWestern = filmsFrequent[filmsFrequent['Genre'] == 'western'].sample(5000, replace = True)\n",
    "filmsCrime = filmsFrequent[filmsFrequent['Genre'] == 'crime'].sample(5000, replace = True)\n",
    "filmsAdventure = filmsFrequent[filmsFrequent['Genre'] == 'adventure'].sample(5000, replace = True)\n",
    "filmsMusical = filmsFrequent[filmsFrequent['Genre'] == 'musical'].sample(5000, replace = True)\n",
    "filmsOver = pd.concat([filmsDrama, filmsComedy, filmsHorror, filmsAction, filmsThriller, filmsRomance, filmsWestern,\n",
    "                       filmsCrime, filmsAdventure, filmsMusical])\n",
    "filmsOver = filmsOver.sample(frac = 1).reset_index(drop = True)\n",
    "print(filmsOver['Genre'].value_counts().sort_values(ascending = False))\n",
    "X = filmsOver['Plot'].values\n",
    "y = filmsOver['Genre'].values\n",
    "\n",
    "encoder = LabelEncoder()\n",
    "y = encoder.fit_transform(y)\n",
    "XTrain, XTest, yTrain, yTest = train_test_split(X, y, test_size = 0.3)"
   ]
  },
  {
   "cell_type": "code",
   "execution_count": 4,
   "metadata": {},
   "outputs": [],
   "source": [
    "tokenizer = Tokenizer(num_words = 1000)\n",
    "tokenizer.fit_on_texts(XTrain)"
   ]
  },
  {
   "cell_type": "code",
   "execution_count": 5,
   "metadata": {},
   "outputs": [],
   "source": [
    "XTrain = tokenizer.texts_to_sequences(XTrain)\n",
    "XTest = tokenizer.texts_to_sequences(XTest)"
   ]
  },
  {
   "cell_type": "code",
   "execution_count": 6,
   "metadata": {},
   "outputs": [
    {
     "name": "stdout",
     "output_type": "stream",
     "text": [
      "(35000, 500) (15000, 500) (35000,) (15000,)\n"
     ]
    }
   ],
   "source": [
    "from keras.preprocessing.sequence import pad_sequences\n",
    "\n",
    "XTrain = pad_sequences(XTrain, padding = 'post', maxlen = 500)\n",
    "XTest = pad_sequences(XTest, padding = 'post', maxlen = 500)\n",
    "print(XTrain.shape, XTest.shape, yTrain.shape, yTest.shape)"
   ]
  },
  {
   "cell_type": "code",
   "execution_count": 7,
   "metadata": {},
   "outputs": [
    {
     "data": {
      "text/plain": [
       "88654"
      ]
     },
     "execution_count": 7,
     "metadata": {},
     "output_type": "execute_result"
    }
   ],
   "source": [
    "vocabSize = len(tokenizer.word_index) + 1\n",
    "vocabSize"
   ]
  },
  {
   "cell_type": "code",
   "execution_count": 17,
   "metadata": {},
   "outputs": [
    {
     "name": "stdout",
     "output_type": "stream",
     "text": [
      "Epoch 1/20\n",
      "350/350 [==============================] - 56s 157ms/step - loss: 2.3331 - acc: 0.1114 - val_loss: 2.4982 - val_acc: 0.1380\n",
      "Epoch 2/20\n",
      "350/350 [==============================] - 54s 154ms/step - loss: 2.2279 - acc: 0.1597 - val_loss: 2.0372 - val_acc: 0.2429\n",
      "Epoch 3/20\n",
      "350/350 [==============================] - 54s 154ms/step - loss: 2.0179 - acc: 0.2421 - val_loss: 1.9976 - val_acc: 0.2846\n",
      "Epoch 4/20\n",
      "350/350 [==============================] - 54s 155ms/step - loss: 1.7286 - acc: 0.3860 - val_loss: 1.7277 - val_acc: 0.4169\n",
      "Epoch 5/20\n",
      "350/350 [==============================] - 54s 155ms/step - loss: 1.5191 - acc: 0.4734 - val_loss: 1.3794 - val_acc: 0.5387\n",
      "Epoch 6/20\n",
      "350/350 [==============================] - 54s 154ms/step - loss: 1.3329 - acc: 0.5585 - val_loss: 1.3023 - val_acc: 0.5765\n",
      "Epoch 7/20\n",
      "350/350 [==============================] - 54s 154ms/step - loss: 1.2341 - acc: 0.5930 - val_loss: 1.2136 - val_acc: 0.6034\n",
      "Epoch 8/20\n",
      "350/350 [==============================] - 55s 156ms/step - loss: 1.1432 - acc: 0.6334 - val_loss: 1.1763 - val_acc: 0.6265\n",
      "Epoch 9/20\n",
      "350/350 [==============================] - 55s 156ms/step - loss: 1.0866 - acc: 0.6570 - val_loss: 1.1234 - val_acc: 0.6443\n",
      "Epoch 10/20\n",
      "350/350 [==============================] - 55s 157ms/step - loss: 1.0275 - acc: 0.6804 - val_loss: 1.0688 - val_acc: 0.6674\n",
      "Epoch 11/20\n",
      "350/350 [==============================] - 56s 159ms/step - loss: 0.9928 - acc: 0.6934 - val_loss: 1.0220 - val_acc: 0.6947\n",
      "Epoch 12/20\n",
      "350/350 [==============================] - 58s 167ms/step - loss: 0.9495 - acc: 0.7085 - val_loss: 1.0773 - val_acc: 0.6745\n",
      "Epoch 13/20\n",
      "350/350 [==============================] - 62s 177ms/step - loss: 0.9211 - acc: 0.7187 - val_loss: 0.9810 - val_acc: 0.7099\n",
      "Epoch 14/20\n",
      "350/350 [==============================] - 62s 178ms/step - loss: 0.8787 - acc: 0.7377 - val_loss: 1.0442 - val_acc: 0.6892\n",
      "Epoch 15/20\n",
      "350/350 [==============================] - 61s 174ms/step - loss: 0.8766 - acc: 0.7428 - val_loss: 0.9364 - val_acc: 0.7307\n",
      "Epoch 16/20\n",
      "350/350 [==============================] - 60s 173ms/step - loss: 0.8412 - acc: 0.7495 - val_loss: 0.9495 - val_acc: 0.7207\n",
      "Epoch 17/20\n",
      "350/350 [==============================] - 56s 159ms/step - loss: 0.8335 - acc: 0.7558 - val_loss: 0.9948 - val_acc: 0.7144\n",
      "Epoch 18/20\n",
      "350/350 [==============================] - 54s 155ms/step - loss: 0.8158 - acc: 0.7592 - val_loss: 0.9505 - val_acc: 0.7221\n",
      "Epoch 19/20\n",
      "350/350 [==============================] - 56s 159ms/step - loss: 0.7942 - acc: 0.7683 - val_loss: 0.9590 - val_acc: 0.7205\n",
      "Epoch 20/20\n",
      "350/350 [==============================] - 55s 158ms/step - loss: 0.7908 - acc: 0.7720 - val_loss: 0.9229 - val_acc: 0.7404\n"
     ]
    }
   ],
   "source": [
    "model1 = Sequential()\n",
    "model1.add(layers.Embedding(vocabSize, 50, input_length = 500))\n",
    "#model1.add(layers.SpatialDropout1D(0.2))\n",
    "model1.add(layers.GRU(32, kernel_regularizer = regularizers.l2(0.01)))\n",
    "# model1.add(layers.Dense(8, activation = 'relu', kernel_regularizer = regularizers.l2(0.01)))\n",
    "# model1.add(layers.Dropout(0.5))\n",
    "model1.add(layers.Dense(10, activation = 'softmax'))\n",
    "model1.compile(optimizer = optimizers.RMSprop(lr = 0.01), loss = 'sparse_categorical_crossentropy', metrics = 'acc')\n",
    "history1 = model1.fit(XTrain, yTrain, epochs = 20, validation_data = (XTest, yTest), batch_size = 100)"
   ]
  },
  {
   "cell_type": "code",
   "execution_count": 18,
   "metadata": {},
   "outputs": [
    {
     "name": "stdout",
     "output_type": "stream",
     "text": [
      "Epoch 1/20\n",
      "350/350 [==============================] - 37s 103ms/step - loss: 2.3241 - acc: 0.1149 - val_loss: 2.2644 - val_acc: 0.1257\n",
      "Epoch 2/20\n",
      "350/350 [==============================] - 38s 109ms/step - loss: 2.2659 - acc: 0.1340 - val_loss: 2.2564 - val_acc: 0.1486\n",
      "Epoch 3/20\n",
      "350/350 [==============================] - 45s 128ms/step - loss: 2.1207 - acc: 0.2018 - val_loss: 1.8979 - val_acc: 0.2931\n",
      "Epoch 4/20\n",
      "350/350 [==============================] - 45s 128ms/step - loss: 1.8645 - acc: 0.3038 - val_loss: 1.8189 - val_acc: 0.3617\n",
      "Epoch 5/20\n",
      "350/350 [==============================] - 44s 126ms/step - loss: 1.6448 - acc: 0.4325 - val_loss: 1.5468 - val_acc: 0.4705\n",
      "Epoch 6/20\n",
      "350/350 [==============================] - 44s 125ms/step - loss: 1.4590 - acc: 0.5068 - val_loss: 1.4900 - val_acc: 0.5023\n",
      "Epoch 7/20\n",
      "350/350 [==============================] - 42s 121ms/step - loss: 1.3115 - acc: 0.5616 - val_loss: 1.2671 - val_acc: 0.5863\n",
      "Epoch 8/20\n",
      "350/350 [==============================] - 42s 121ms/step - loss: 1.2126 - acc: 0.6043 - val_loss: 1.1831 - val_acc: 0.6218\n",
      "Epoch 9/20\n",
      "350/350 [==============================] - 43s 122ms/step - loss: 1.1249 - acc: 0.6397 - val_loss: 1.1319 - val_acc: 0.6393\n",
      "Epoch 10/20\n",
      "350/350 [==============================] - 43s 123ms/step - loss: 1.0951 - acc: 0.6536 - val_loss: 1.1986 - val_acc: 0.6211\n",
      "Epoch 11/20\n",
      "350/350 [==============================] - 43s 123ms/step - loss: 1.0268 - acc: 0.6766 - val_loss: 1.0968 - val_acc: 0.6621\n",
      "Epoch 12/20\n",
      "350/350 [==============================] - 43s 122ms/step - loss: 0.9916 - acc: 0.6899 - val_loss: 1.0489 - val_acc: 0.6785\n",
      "Epoch 13/20\n",
      "350/350 [==============================] - 43s 122ms/step - loss: 0.9635 - acc: 0.7040 - val_loss: 1.0040 - val_acc: 0.6991\n",
      "Epoch 14/20\n",
      "350/350 [==============================] - 43s 122ms/step - loss: 0.9323 - acc: 0.7119 - val_loss: 1.0528 - val_acc: 0.6807\n",
      "Epoch 15/20\n",
      "350/350 [==============================] - 43s 123ms/step - loss: 0.8976 - acc: 0.7233 - val_loss: 1.1039 - val_acc: 0.6645\n",
      "Epoch 16/20\n",
      "350/350 [==============================] - 43s 122ms/step - loss: 0.8724 - acc: 0.7361 - val_loss: 1.0443 - val_acc: 0.6957\n",
      "Epoch 17/20\n",
      "350/350 [==============================] - 43s 122ms/step - loss: 0.8575 - acc: 0.7401 - val_loss: 0.9779 - val_acc: 0.7047\n",
      "Epoch 18/20\n",
      "350/350 [==============================] - 43s 124ms/step - loss: 0.8322 - acc: 0.7479 - val_loss: 0.9460 - val_acc: 0.7237\n",
      "Epoch 19/20\n",
      "350/350 [==============================] - 43s 123ms/step - loss: 0.8183 - acc: 0.7562 - val_loss: 1.0289 - val_acc: 0.6959\n",
      "Epoch 20/20\n",
      "350/350 [==============================] - 43s 123ms/step - loss: 0.8265 - acc: 0.7533 - val_loss: 0.9033 - val_acc: 0.7424\n"
     ]
    }
   ],
   "source": [
    "model2 = Sequential()\n",
    "model2.add(layers.Embedding(vocabSize, 50, input_length = 500))\n",
    "model2.add(layers.GRU(16, kernel_regularizer = regularizers.l2(0.01)))\n",
    "model2.add(layers.Dense(10, activation = 'softmax'))\n",
    "model2.compile(optimizer = optimizers.RMSprop(lr = 0.01), loss = 'sparse_categorical_crossentropy', metrics = 'acc')\n",
    "history2 = model2.fit(XTrain, yTrain, epochs = 20, validation_data = (XTest, yTest), batch_size = 100)"
   ]
  },
  {
   "cell_type": "code",
   "execution_count": 19,
   "metadata": {},
   "outputs": [
    {
     "name": "stdout",
     "output_type": "stream",
     "text": [
      "Epoch 1/20\n",
      "350/350 [==============================] - 84s 237ms/step - loss: 2.3491 - acc: 0.1116 - val_loss: 2.3002 - val_acc: 0.1207\n",
      "Epoch 2/20\n",
      "350/350 [==============================] - 92s 264ms/step - loss: 2.2766 - acc: 0.1355 - val_loss: 2.2362 - val_acc: 0.1499\n",
      "Epoch 3/20\n",
      "350/350 [==============================] - 96s 275ms/step - loss: 2.2504 - acc: 0.1616 - val_loss: 2.1805 - val_acc: 0.1926\n",
      "Epoch 4/20\n",
      "350/350 [==============================] - 95s 272ms/step - loss: 2.0468 - acc: 0.2367 - val_loss: 2.0481 - val_acc: 0.2433\n",
      "Epoch 5/20\n",
      "350/350 [==============================] - 95s 272ms/step - loss: 1.9011 - acc: 0.2994 - val_loss: 1.8900 - val_acc: 0.3413\n",
      "Epoch 6/20\n",
      "350/350 [==============================] - 96s 275ms/step - loss: 1.6475 - acc: 0.4293 - val_loss: 1.5592 - val_acc: 0.4734\n",
      "Epoch 7/20\n",
      "350/350 [==============================] - 96s 276ms/step - loss: 1.4957 - acc: 0.5022 - val_loss: 1.4503 - val_acc: 0.5289\n",
      "Epoch 8/20\n",
      "350/350 [==============================] - 96s 275ms/step - loss: 1.4549 - acc: 0.5298 - val_loss: 2.4381 - val_acc: 0.3237\n",
      "Epoch 9/20\n",
      "350/350 [==============================] - 97s 278ms/step - loss: 2.9086 - acc: 0.2747 - val_loss: 3.2633 - val_acc: 0.2529\n",
      "Epoch 10/20\n",
      "350/350 [==============================] - 96s 275ms/step - loss: nan - acc: 0.2192 - val_loss: nan - val_acc: 0.0983\n",
      "Epoch 11/20\n",
      "350/350 [==============================] - 95s 272ms/step - loss: nan - acc: 0.1006 - val_loss: nan - val_acc: 0.0983\n",
      "Epoch 12/20\n",
      "  5/350 [..............................] - ETA: 1:22 - loss: nan - acc: 0.0922"
     ]
    },
    {
     "ename": "KeyboardInterrupt",
     "evalue": "",
     "output_type": "error",
     "traceback": [
      "\u001b[1;31m---------------------------------------------------------------------------\u001b[0m",
      "\u001b[1;31mKeyboardInterrupt\u001b[0m                         Traceback (most recent call last)",
      "\u001b[1;32m<ipython-input-19-57589a735f0c>\u001b[0m in \u001b[0;36m<module>\u001b[1;34m\u001b[0m\n\u001b[0;32m      4\u001b[0m \u001b[0mmodel3\u001b[0m\u001b[1;33m.\u001b[0m\u001b[0madd\u001b[0m\u001b[1;33m(\u001b[0m\u001b[0mlayers\u001b[0m\u001b[1;33m.\u001b[0m\u001b[0mDense\u001b[0m\u001b[1;33m(\u001b[0m\u001b[1;36m10\u001b[0m\u001b[1;33m,\u001b[0m \u001b[0mactivation\u001b[0m \u001b[1;33m=\u001b[0m \u001b[1;34m'softmax'\u001b[0m\u001b[1;33m)\u001b[0m\u001b[1;33m)\u001b[0m\u001b[1;33m\u001b[0m\u001b[1;33m\u001b[0m\u001b[0m\n\u001b[0;32m      5\u001b[0m \u001b[0mmodel3\u001b[0m\u001b[1;33m.\u001b[0m\u001b[0mcompile\u001b[0m\u001b[1;33m(\u001b[0m\u001b[0moptimizer\u001b[0m \u001b[1;33m=\u001b[0m \u001b[0moptimizers\u001b[0m\u001b[1;33m.\u001b[0m\u001b[0mRMSprop\u001b[0m\u001b[1;33m(\u001b[0m\u001b[0mlr\u001b[0m \u001b[1;33m=\u001b[0m \u001b[1;36m0.01\u001b[0m\u001b[1;33m)\u001b[0m\u001b[1;33m,\u001b[0m \u001b[0mloss\u001b[0m \u001b[1;33m=\u001b[0m \u001b[1;34m'sparse_categorical_crossentropy'\u001b[0m\u001b[1;33m,\u001b[0m \u001b[0mmetrics\u001b[0m \u001b[1;33m=\u001b[0m \u001b[1;34m'acc'\u001b[0m\u001b[1;33m)\u001b[0m\u001b[1;33m\u001b[0m\u001b[1;33m\u001b[0m\u001b[0m\n\u001b[1;32m----> 6\u001b[1;33m \u001b[0mhistory3\u001b[0m \u001b[1;33m=\u001b[0m \u001b[0mmodel3\u001b[0m\u001b[1;33m.\u001b[0m\u001b[0mfit\u001b[0m\u001b[1;33m(\u001b[0m\u001b[0mXTrain\u001b[0m\u001b[1;33m,\u001b[0m \u001b[0myTrain\u001b[0m\u001b[1;33m,\u001b[0m \u001b[0mepochs\u001b[0m \u001b[1;33m=\u001b[0m \u001b[1;36m20\u001b[0m\u001b[1;33m,\u001b[0m \u001b[0mvalidation_data\u001b[0m \u001b[1;33m=\u001b[0m \u001b[1;33m(\u001b[0m\u001b[0mXTest\u001b[0m\u001b[1;33m,\u001b[0m \u001b[0myTest\u001b[0m\u001b[1;33m)\u001b[0m\u001b[1;33m,\u001b[0m \u001b[0mbatch_size\u001b[0m \u001b[1;33m=\u001b[0m \u001b[1;36m100\u001b[0m\u001b[1;33m)\u001b[0m\u001b[1;33m\u001b[0m\u001b[1;33m\u001b[0m\u001b[0m\n\u001b[0m",
      "\u001b[1;32m~\\AppData\\Roaming\\Python\\Python38\\site-packages\\tensorflow\\python\\keras\\engine\\training.py\u001b[0m in \u001b[0;36mfit\u001b[1;34m(self, x, y, batch_size, epochs, verbose, callbacks, validation_split, validation_data, shuffle, class_weight, sample_weight, initial_epoch, steps_per_epoch, validation_steps, validation_batch_size, validation_freq, max_queue_size, workers, use_multiprocessing)\u001b[0m\n\u001b[0;32m   1098\u001b[0m                 _r=1):\n\u001b[0;32m   1099\u001b[0m               \u001b[0mcallbacks\u001b[0m\u001b[1;33m.\u001b[0m\u001b[0mon_train_batch_begin\u001b[0m\u001b[1;33m(\u001b[0m\u001b[0mstep\u001b[0m\u001b[1;33m)\u001b[0m\u001b[1;33m\u001b[0m\u001b[1;33m\u001b[0m\u001b[0m\n\u001b[1;32m-> 1100\u001b[1;33m               \u001b[0mtmp_logs\u001b[0m \u001b[1;33m=\u001b[0m \u001b[0mself\u001b[0m\u001b[1;33m.\u001b[0m\u001b[0mtrain_function\u001b[0m\u001b[1;33m(\u001b[0m\u001b[0miterator\u001b[0m\u001b[1;33m)\u001b[0m\u001b[1;33m\u001b[0m\u001b[1;33m\u001b[0m\u001b[0m\n\u001b[0m\u001b[0;32m   1101\u001b[0m               \u001b[1;32mif\u001b[0m \u001b[0mdata_handler\u001b[0m\u001b[1;33m.\u001b[0m\u001b[0mshould_sync\u001b[0m\u001b[1;33m:\u001b[0m\u001b[1;33m\u001b[0m\u001b[1;33m\u001b[0m\u001b[0m\n\u001b[0;32m   1102\u001b[0m                 \u001b[0mcontext\u001b[0m\u001b[1;33m.\u001b[0m\u001b[0masync_wait\u001b[0m\u001b[1;33m(\u001b[0m\u001b[1;33m)\u001b[0m\u001b[1;33m\u001b[0m\u001b[1;33m\u001b[0m\u001b[0m\n",
      "\u001b[1;32m~\\AppData\\Roaming\\Python\\Python38\\site-packages\\tensorflow\\python\\eager\\def_function.py\u001b[0m in \u001b[0;36m__call__\u001b[1;34m(self, *args, **kwds)\u001b[0m\n\u001b[0;32m    826\u001b[0m     \u001b[0mtracing_count\u001b[0m \u001b[1;33m=\u001b[0m \u001b[0mself\u001b[0m\u001b[1;33m.\u001b[0m\u001b[0mexperimental_get_tracing_count\u001b[0m\u001b[1;33m(\u001b[0m\u001b[1;33m)\u001b[0m\u001b[1;33m\u001b[0m\u001b[1;33m\u001b[0m\u001b[0m\n\u001b[0;32m    827\u001b[0m     \u001b[1;32mwith\u001b[0m \u001b[0mtrace\u001b[0m\u001b[1;33m.\u001b[0m\u001b[0mTrace\u001b[0m\u001b[1;33m(\u001b[0m\u001b[0mself\u001b[0m\u001b[1;33m.\u001b[0m\u001b[0m_name\u001b[0m\u001b[1;33m)\u001b[0m \u001b[1;32mas\u001b[0m \u001b[0mtm\u001b[0m\u001b[1;33m:\u001b[0m\u001b[1;33m\u001b[0m\u001b[1;33m\u001b[0m\u001b[0m\n\u001b[1;32m--> 828\u001b[1;33m       \u001b[0mresult\u001b[0m \u001b[1;33m=\u001b[0m \u001b[0mself\u001b[0m\u001b[1;33m.\u001b[0m\u001b[0m_call\u001b[0m\u001b[1;33m(\u001b[0m\u001b[1;33m*\u001b[0m\u001b[0margs\u001b[0m\u001b[1;33m,\u001b[0m \u001b[1;33m**\u001b[0m\u001b[0mkwds\u001b[0m\u001b[1;33m)\u001b[0m\u001b[1;33m\u001b[0m\u001b[1;33m\u001b[0m\u001b[0m\n\u001b[0m\u001b[0;32m    829\u001b[0m       \u001b[0mcompiler\u001b[0m \u001b[1;33m=\u001b[0m \u001b[1;34m\"xla\"\u001b[0m \u001b[1;32mif\u001b[0m \u001b[0mself\u001b[0m\u001b[1;33m.\u001b[0m\u001b[0m_experimental_compile\u001b[0m \u001b[1;32melse\u001b[0m \u001b[1;34m\"nonXla\"\u001b[0m\u001b[1;33m\u001b[0m\u001b[1;33m\u001b[0m\u001b[0m\n\u001b[0;32m    830\u001b[0m       \u001b[0mnew_tracing_count\u001b[0m \u001b[1;33m=\u001b[0m \u001b[0mself\u001b[0m\u001b[1;33m.\u001b[0m\u001b[0mexperimental_get_tracing_count\u001b[0m\u001b[1;33m(\u001b[0m\u001b[1;33m)\u001b[0m\u001b[1;33m\u001b[0m\u001b[1;33m\u001b[0m\u001b[0m\n",
      "\u001b[1;32m~\\AppData\\Roaming\\Python\\Python38\\site-packages\\tensorflow\\python\\eager\\def_function.py\u001b[0m in \u001b[0;36m_call\u001b[1;34m(self, *args, **kwds)\u001b[0m\n\u001b[0;32m    853\u001b[0m       \u001b[1;31m# In this case we have created variables on the first call, so we run the\u001b[0m\u001b[1;33m\u001b[0m\u001b[1;33m\u001b[0m\u001b[1;33m\u001b[0m\u001b[0m\n\u001b[0;32m    854\u001b[0m       \u001b[1;31m# defunned version which is guaranteed to never create variables.\u001b[0m\u001b[1;33m\u001b[0m\u001b[1;33m\u001b[0m\u001b[1;33m\u001b[0m\u001b[0m\n\u001b[1;32m--> 855\u001b[1;33m       \u001b[1;32mreturn\u001b[0m \u001b[0mself\u001b[0m\u001b[1;33m.\u001b[0m\u001b[0m_stateless_fn\u001b[0m\u001b[1;33m(\u001b[0m\u001b[1;33m*\u001b[0m\u001b[0margs\u001b[0m\u001b[1;33m,\u001b[0m \u001b[1;33m**\u001b[0m\u001b[0mkwds\u001b[0m\u001b[1;33m)\u001b[0m  \u001b[1;31m# pylint: disable=not-callable\u001b[0m\u001b[1;33m\u001b[0m\u001b[1;33m\u001b[0m\u001b[0m\n\u001b[0m\u001b[0;32m    856\u001b[0m     \u001b[1;32melif\u001b[0m \u001b[0mself\u001b[0m\u001b[1;33m.\u001b[0m\u001b[0m_stateful_fn\u001b[0m \u001b[1;32mis\u001b[0m \u001b[1;32mnot\u001b[0m \u001b[1;32mNone\u001b[0m\u001b[1;33m:\u001b[0m\u001b[1;33m\u001b[0m\u001b[1;33m\u001b[0m\u001b[0m\n\u001b[0;32m    857\u001b[0m       \u001b[1;31m# Release the lock early so that multiple threads can perform the call\u001b[0m\u001b[1;33m\u001b[0m\u001b[1;33m\u001b[0m\u001b[1;33m\u001b[0m\u001b[0m\n",
      "\u001b[1;32m~\\AppData\\Roaming\\Python\\Python38\\site-packages\\tensorflow\\python\\eager\\function.py\u001b[0m in \u001b[0;36m__call__\u001b[1;34m(self, *args, **kwargs)\u001b[0m\n\u001b[0;32m   2940\u001b[0m       (graph_function,\n\u001b[0;32m   2941\u001b[0m        filtered_flat_args) = self._maybe_define_function(args, kwargs)\n\u001b[1;32m-> 2942\u001b[1;33m     return graph_function._call_flat(\n\u001b[0m\u001b[0;32m   2943\u001b[0m         filtered_flat_args, captured_inputs=graph_function.captured_inputs)  # pylint: disable=protected-access\n\u001b[0;32m   2944\u001b[0m \u001b[1;33m\u001b[0m\u001b[0m\n",
      "\u001b[1;32m~\\AppData\\Roaming\\Python\\Python38\\site-packages\\tensorflow\\python\\eager\\function.py\u001b[0m in \u001b[0;36m_call_flat\u001b[1;34m(self, args, captured_inputs, cancellation_manager)\u001b[0m\n\u001b[0;32m   1916\u001b[0m         and executing_eagerly):\n\u001b[0;32m   1917\u001b[0m       \u001b[1;31m# No tape is watching; skip to running the function.\u001b[0m\u001b[1;33m\u001b[0m\u001b[1;33m\u001b[0m\u001b[1;33m\u001b[0m\u001b[0m\n\u001b[1;32m-> 1918\u001b[1;33m       return self._build_call_outputs(self._inference_function.call(\n\u001b[0m\u001b[0;32m   1919\u001b[0m           ctx, args, cancellation_manager=cancellation_manager))\n\u001b[0;32m   1920\u001b[0m     forward_backward = self._select_forward_and_backward_functions(\n",
      "\u001b[1;32m~\\AppData\\Roaming\\Python\\Python38\\site-packages\\tensorflow\\python\\eager\\function.py\u001b[0m in \u001b[0;36mcall\u001b[1;34m(self, ctx, args, cancellation_manager)\u001b[0m\n\u001b[0;32m    553\u001b[0m       \u001b[1;32mwith\u001b[0m \u001b[0m_InterpolateFunctionError\u001b[0m\u001b[1;33m(\u001b[0m\u001b[0mself\u001b[0m\u001b[1;33m)\u001b[0m\u001b[1;33m:\u001b[0m\u001b[1;33m\u001b[0m\u001b[1;33m\u001b[0m\u001b[0m\n\u001b[0;32m    554\u001b[0m         \u001b[1;32mif\u001b[0m \u001b[0mcancellation_manager\u001b[0m \u001b[1;32mis\u001b[0m \u001b[1;32mNone\u001b[0m\u001b[1;33m:\u001b[0m\u001b[1;33m\u001b[0m\u001b[1;33m\u001b[0m\u001b[0m\n\u001b[1;32m--> 555\u001b[1;33m           outputs = execute.execute(\n\u001b[0m\u001b[0;32m    556\u001b[0m               \u001b[0mstr\u001b[0m\u001b[1;33m(\u001b[0m\u001b[0mself\u001b[0m\u001b[1;33m.\u001b[0m\u001b[0msignature\u001b[0m\u001b[1;33m.\u001b[0m\u001b[0mname\u001b[0m\u001b[1;33m)\u001b[0m\u001b[1;33m,\u001b[0m\u001b[1;33m\u001b[0m\u001b[1;33m\u001b[0m\u001b[0m\n\u001b[0;32m    557\u001b[0m               \u001b[0mnum_outputs\u001b[0m\u001b[1;33m=\u001b[0m\u001b[0mself\u001b[0m\u001b[1;33m.\u001b[0m\u001b[0m_num_outputs\u001b[0m\u001b[1;33m,\u001b[0m\u001b[1;33m\u001b[0m\u001b[1;33m\u001b[0m\u001b[0m\n",
      "\u001b[1;32m~\\AppData\\Roaming\\Python\\Python38\\site-packages\\tensorflow\\python\\eager\\execute.py\u001b[0m in \u001b[0;36mquick_execute\u001b[1;34m(op_name, num_outputs, inputs, attrs, ctx, name)\u001b[0m\n\u001b[0;32m     57\u001b[0m   \u001b[1;32mtry\u001b[0m\u001b[1;33m:\u001b[0m\u001b[1;33m\u001b[0m\u001b[1;33m\u001b[0m\u001b[0m\n\u001b[0;32m     58\u001b[0m     \u001b[0mctx\u001b[0m\u001b[1;33m.\u001b[0m\u001b[0mensure_initialized\u001b[0m\u001b[1;33m(\u001b[0m\u001b[1;33m)\u001b[0m\u001b[1;33m\u001b[0m\u001b[1;33m\u001b[0m\u001b[0m\n\u001b[1;32m---> 59\u001b[1;33m     tensors = pywrap_tfe.TFE_Py_Execute(ctx._handle, device_name, op_name,\n\u001b[0m\u001b[0;32m     60\u001b[0m                                         inputs, attrs, num_outputs)\n\u001b[0;32m     61\u001b[0m   \u001b[1;32mexcept\u001b[0m \u001b[0mcore\u001b[0m\u001b[1;33m.\u001b[0m\u001b[0m_NotOkStatusException\u001b[0m \u001b[1;32mas\u001b[0m \u001b[0me\u001b[0m\u001b[1;33m:\u001b[0m\u001b[1;33m\u001b[0m\u001b[1;33m\u001b[0m\u001b[0m\n",
      "\u001b[1;31mKeyboardInterrupt\u001b[0m: "
     ]
    }
   ],
   "source": [
    "model3 = Sequential()\n",
    "model3.add(layers.Embedding(vocabSize, 50, input_length = 500))\n",
    "model3.add(layers.GRU(64, kernel_regularizer = regularizers.l2(0.01)))\n",
    "model3.add(layers.Dense(10, activation = 'softmax'))\n",
    "model3.compile(optimizer = optimizers.RMSprop(lr = 0.01), loss = 'sparse_categorical_crossentropy', metrics = 'acc')\n",
    "history3 = model3.fit(XTrain, yTrain, epochs = 20, validation_data = (XTest, yTest), batch_size = 100)"
   ]
  },
  {
   "cell_type": "code",
   "execution_count": null,
   "metadata": {},
   "outputs": [],
   "source": []
  }
 ],
 "metadata": {
  "kernelspec": {
   "display_name": "Python 3",
   "language": "python",
   "name": "python3"
  },
  "language_info": {
   "codemirror_mode": {
    "name": "ipython",
    "version": 3
   },
   "file_extension": ".py",
   "mimetype": "text/x-python",
   "name": "python",
   "nbconvert_exporter": "python",
   "pygments_lexer": "ipython3",
   "version": "3.8.5"
  }
 },
 "nbformat": 4,
 "nbformat_minor": 4
}
